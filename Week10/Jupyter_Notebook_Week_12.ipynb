{
 "cells": [
  {
   "cell_type": "markdown",
   "id": "productive-reunion",
   "metadata": {},
   "source": [
    "# Week XII - Trajectories: Dynamics Visualization and Radial Distribution Function"
   ]
  },
  {
   "cell_type": "markdown",
   "id": "wrong-disco",
   "metadata": {},
   "source": [
    "In this tutorial we analyze **trajectories** obtained by Monte Carlo (MC) simulations, in particular we focus on the visualization of the dynamics and the calculation of the radial distribution function (RDF). We will consider MC simulations of 2D hard disks, but the same considerations applies to molecular dynamics (MD) and other systems.\n",
    "\n",
    "> We will analyse the trajectories with a post-processing approach:\n",
    "> * The Fortran code `hd-MC.f90` will be use to run the dynamics. \n",
    "> * We have slightly modified `hd-MC.f90` to store the trajectory in a standardized format (ext XYZ)\n",
    "> * We will use Python to interface with existing visualization libraries and calculate the RDF on top of the stored `.xyz` trajectories"
   ]
  },
  {
   "cell_type": "markdown",
   "id": "separated-kingdom",
   "metadata": {},
   "source": [
    "NB: we will use the Python package `ase` for parsing and visualization (you can install it with by ``pip install ase``)"
   ]
  },
  {
   "cell_type": "markdown",
   "id": "adjusted-jonathan",
   "metadata": {},
   "source": [
    "## Visualizaing the trajectory\n",
    "\n",
    "* MC and MD simulations typically involve the calculation of a number of quantities for analysis, such as the RDF, the mean square displacement (MSD), the autocorrelation function and more.\n",
    "* While these properties can be calculated \"on the fly\" during the simulations, it is often more convenient to store the trajectories and calculate the desired quantitites later. That mirrors exactly the situation in laboratory experiments: **data acquisition and data analysis are typically performed at different times**.\n",
    "* The same data analysis routines can be used to study different systems, potentially obtained with different simulations codes, as long as a standardized *data format* is used.\n",
    "* Hence, it is often very powerful to produce outputs in widely recognized formats and extensions, that allows to use existing packages for data analysis: you (or someone else) might have already produced the relevant function or subroutine."
   ]
  },
  {
   "cell_type": "markdown",
   "id": "broadband-participation",
   "metadata": {},
   "source": [
    "### Extended XYZ and ASE\n",
    "- We will use the extend XYZ format for storing the trajectories (see for instance https://www.ovito.org/docs/dev/reference/file_formats/input/xyz.html)\n",
    "- We will use the Python package Atomic Simulation Environment (ASE) for reading the XYZ file (https://wiki.fysik.dtu.dk/ase/) and visualize the dynamics"
   ]
  },
  {
   "cell_type": "markdown",
   "id": "cutting-service",
   "metadata": {},
   "source": [
    "### Simulations and post processing\n",
    "1. First we look the code ``hd-MC_v2.f90``, which has been modified to store trajectories in the extended XYZ format (now we move to the code editor window)\n",
    "2. Let's run in the terminal some MC with the Fortran code `hd-MC_v2.x` (N=30, 6x5, 500 steps for equilibration, 5000 for sampling)\n",
    "3. Now we analyze the trajectoy ``traj.xyz``"
   ]
  },
  {
   "cell_type": "code",
   "execution_count": 3,
   "id": "separated-syria",
   "metadata": {},
   "outputs": [
    {
     "ename": "ImportError",
     "evalue": "DLL load failed while importing _fblas: Impossibile trovare il modulo specificato.",
     "output_type": "error",
     "traceback": [
      "\u001b[1;31m---------------------------------------------------------------------------\u001b[0m",
      "\u001b[1;31mImportError\u001b[0m                               Traceback (most recent call last)",
      "Cell \u001b[1;32mIn[3], line 2\u001b[0m\n\u001b[0;32m      1\u001b[0m \u001b[38;5;28;01mimport\u001b[39;00m \u001b[38;5;21;01mnumpy\u001b[39;00m \u001b[38;5;28;01mas\u001b[39;00m \u001b[38;5;21;01mnp\u001b[39;00m\n\u001b[1;32m----> 2\u001b[0m \u001b[38;5;28;01mfrom\u001b[39;00m \u001b[38;5;21;01mase\u001b[39;00m\u001b[38;5;21;01m.\u001b[39;00m\u001b[38;5;21;01mio\u001b[39;00m \u001b[38;5;28;01mimport\u001b[39;00m read\n\u001b[0;32m      3\u001b[0m \u001b[38;5;66;03m# We load and parse the trajectory\u001b[39;00m\n\u001b[0;32m      4\u001b[0m traj \u001b[38;5;241m=\u001b[39m read(\u001b[38;5;124m'\u001b[39m\u001b[38;5;124m./Fortran_code/traj.xyz\u001b[39m\u001b[38;5;124m'\u001b[39m,index\u001b[38;5;241m=\u001b[39m\u001b[38;5;124m'\u001b[39m\u001b[38;5;124m:\u001b[39m\u001b[38;5;124m'\u001b[39m)\n",
      "File \u001b[1;32m~\\AppData\\Roaming\\Python\\Python38\\site-packages\\ase\\io\\__init__.py:1\u001b[0m\n\u001b[1;32m----> 1\u001b[0m \u001b[38;5;28;01mfrom\u001b[39;00m \u001b[38;5;21;01mase\u001b[39;00m\u001b[38;5;21;01m.\u001b[39;00m\u001b[38;5;21;01mio\u001b[39;00m\u001b[38;5;21;01m.\u001b[39;00m\u001b[38;5;21;01mtrajectory\u001b[39;00m \u001b[38;5;28;01mimport\u001b[39;00m Trajectory, PickleTrajectory\n\u001b[0;32m      2\u001b[0m \u001b[38;5;28;01mfrom\u001b[39;00m \u001b[38;5;21;01mase\u001b[39;00m\u001b[38;5;21;01m.\u001b[39;00m\u001b[38;5;21;01mio\u001b[39;00m\u001b[38;5;21;01m.\u001b[39;00m\u001b[38;5;21;01mbundletrajectory\u001b[39;00m \u001b[38;5;28;01mimport\u001b[39;00m BundleTrajectory\n\u001b[0;32m      3\u001b[0m \u001b[38;5;28;01mfrom\u001b[39;00m \u001b[38;5;21;01mase\u001b[39;00m\u001b[38;5;21;01m.\u001b[39;00m\u001b[38;5;21;01mio\u001b[39;00m\u001b[38;5;21;01m.\u001b[39;00m\u001b[38;5;21;01mnetcdftrajectory\u001b[39;00m \u001b[38;5;28;01mimport\u001b[39;00m NetCDFTrajectory\n",
      "File \u001b[1;32m~\\AppData\\Roaming\\Python\\Python38\\site-packages\\ase\\io\\trajectory.py:8\u001b[0m\n\u001b[0;32m      6\u001b[0m \u001b[38;5;28;01mfrom\u001b[39;00m \u001b[38;5;21;01mase\u001b[39;00m \u001b[38;5;28;01mimport\u001b[39;00m __version__\n\u001b[0;32m      7\u001b[0m \u001b[38;5;28;01mfrom\u001b[39;00m \u001b[38;5;21;01mase\u001b[39;00m\u001b[38;5;21;01m.\u001b[39;00m\u001b[38;5;21;01mcalculators\u001b[39;00m\u001b[38;5;21;01m.\u001b[39;00m\u001b[38;5;21;01msinglepoint\u001b[39;00m \u001b[38;5;28;01mimport\u001b[39;00m SinglePointCalculator, all_properties\n\u001b[1;32m----> 8\u001b[0m \u001b[38;5;28;01mfrom\u001b[39;00m \u001b[38;5;21;01mase\u001b[39;00m\u001b[38;5;21;01m.\u001b[39;00m\u001b[38;5;21;01mconstraints\u001b[39;00m \u001b[38;5;28;01mimport\u001b[39;00m dict2constraint\n\u001b[0;32m      9\u001b[0m \u001b[38;5;28;01mfrom\u001b[39;00m \u001b[38;5;21;01mase\u001b[39;00m\u001b[38;5;21;01m.\u001b[39;00m\u001b[38;5;21;01mcalculators\u001b[39;00m\u001b[38;5;21;01m.\u001b[39;00m\u001b[38;5;21;01mcalculator\u001b[39;00m \u001b[38;5;28;01mimport\u001b[39;00m PropertyNotImplementedError\n\u001b[0;32m     10\u001b[0m \u001b[38;5;28;01mfrom\u001b[39;00m \u001b[38;5;21;01mase\u001b[39;00m\u001b[38;5;21;01m.\u001b[39;00m\u001b[38;5;21;01matoms\u001b[39;00m \u001b[38;5;28;01mimport\u001b[39;00m Atoms\n",
      "File \u001b[1;32m~\\AppData\\Roaming\\Python\\Python38\\site-packages\\ase\\constraints.py:5\u001b[0m\n\u001b[0;32m      2\u001b[0m \u001b[38;5;28;01mfrom\u001b[39;00m \u001b[38;5;21;01mwarnings\u001b[39;00m \u001b[38;5;28;01mimport\u001b[39;00m warn\n\u001b[0;32m      4\u001b[0m \u001b[38;5;28;01mimport\u001b[39;00m \u001b[38;5;21;01mnumpy\u001b[39;00m \u001b[38;5;28;01mas\u001b[39;00m \u001b[38;5;21;01mnp\u001b[39;00m\n\u001b[1;32m----> 5\u001b[0m \u001b[38;5;28;01mfrom\u001b[39;00m \u001b[38;5;21;01mscipy\u001b[39;00m\u001b[38;5;21;01m.\u001b[39;00m\u001b[38;5;21;01mlinalg\u001b[39;00m \u001b[38;5;28;01mimport\u001b[39;00m expm, logm\n\u001b[0;32m      6\u001b[0m \u001b[38;5;28;01mfrom\u001b[39;00m \u001b[38;5;21;01mase\u001b[39;00m\u001b[38;5;21;01m.\u001b[39;00m\u001b[38;5;21;01mcalculators\u001b[39;00m\u001b[38;5;21;01m.\u001b[39;00m\u001b[38;5;21;01mcalculator\u001b[39;00m \u001b[38;5;28;01mimport\u001b[39;00m PropertyNotImplementedError\n\u001b[0;32m      7\u001b[0m \u001b[38;5;28;01mfrom\u001b[39;00m \u001b[38;5;21;01mase\u001b[39;00m\u001b[38;5;21;01m.\u001b[39;00m\u001b[38;5;21;01mgeometry\u001b[39;00m \u001b[38;5;28;01mimport\u001b[39;00m (find_mic, wrap_positions, get_distances_derivatives,\n\u001b[0;32m      8\u001b[0m                           get_angles_derivatives, get_dihedrals_derivatives,\n\u001b[0;32m      9\u001b[0m                           conditional_find_mic, get_angles, get_dihedrals)\n",
      "File \u001b[1;32m~\\miniconda3\\lib\\site-packages\\scipy\\linalg\\__init__.py:197\u001b[0m\n\u001b[0;32m      1\u001b[0m \u001b[38;5;124;03m\"\"\"\u001b[39;00m\n\u001b[0;32m      2\u001b[0m \u001b[38;5;124;03m====================================\u001b[39;00m\n\u001b[0;32m      3\u001b[0m \u001b[38;5;124;03mLinear algebra (:mod:`scipy.linalg`)\u001b[39;00m\n\u001b[1;32m   (...)\u001b[0m\n\u001b[0;32m    194\u001b[0m \n\u001b[0;32m    195\u001b[0m \u001b[38;5;124;03m\"\"\"\u001b[39;00m  \u001b[38;5;66;03m# noqa: E501\u001b[39;00m\n\u001b[1;32m--> 197\u001b[0m \u001b[38;5;28;01mfrom\u001b[39;00m \u001b[38;5;21;01m.\u001b[39;00m\u001b[38;5;21;01m_misc\u001b[39;00m \u001b[38;5;28;01mimport\u001b[39;00m \u001b[38;5;241m*\u001b[39m\n\u001b[0;32m    198\u001b[0m \u001b[38;5;28;01mfrom\u001b[39;00m \u001b[38;5;21;01m.\u001b[39;00m\u001b[38;5;21;01m_cythonized_array_utils\u001b[39;00m \u001b[38;5;28;01mimport\u001b[39;00m \u001b[38;5;241m*\u001b[39m\n\u001b[0;32m    199\u001b[0m \u001b[38;5;28;01mfrom\u001b[39;00m \u001b[38;5;21;01m.\u001b[39;00m\u001b[38;5;21;01m_basic\u001b[39;00m \u001b[38;5;28;01mimport\u001b[39;00m \u001b[38;5;241m*\u001b[39m\n",
      "File \u001b[1;32m~\\miniconda3\\lib\\site-packages\\scipy\\linalg\\_misc.py:3\u001b[0m\n\u001b[0;32m      1\u001b[0m \u001b[38;5;28;01mimport\u001b[39;00m \u001b[38;5;21;01mnumpy\u001b[39;00m \u001b[38;5;28;01mas\u001b[39;00m \u001b[38;5;21;01mnp\u001b[39;00m\n\u001b[0;32m      2\u001b[0m \u001b[38;5;28;01mfrom\u001b[39;00m \u001b[38;5;21;01mnumpy\u001b[39;00m\u001b[38;5;21;01m.\u001b[39;00m\u001b[38;5;21;01mlinalg\u001b[39;00m \u001b[38;5;28;01mimport\u001b[39;00m LinAlgError\n\u001b[1;32m----> 3\u001b[0m \u001b[38;5;28;01mfrom\u001b[39;00m \u001b[38;5;21;01m.\u001b[39;00m\u001b[38;5;21;01mblas\u001b[39;00m \u001b[38;5;28;01mimport\u001b[39;00m get_blas_funcs\n\u001b[0;32m      4\u001b[0m \u001b[38;5;28;01mfrom\u001b[39;00m \u001b[38;5;21;01m.\u001b[39;00m\u001b[38;5;21;01mlapack\u001b[39;00m \u001b[38;5;28;01mimport\u001b[39;00m get_lapack_funcs\n\u001b[0;32m      6\u001b[0m __all__ \u001b[38;5;241m=\u001b[39m [\u001b[38;5;124m'\u001b[39m\u001b[38;5;124mLinAlgError\u001b[39m\u001b[38;5;124m'\u001b[39m, \u001b[38;5;124m'\u001b[39m\u001b[38;5;124mLinAlgWarning\u001b[39m\u001b[38;5;124m'\u001b[39m, \u001b[38;5;124m'\u001b[39m\u001b[38;5;124mnorm\u001b[39m\u001b[38;5;124m'\u001b[39m]\n",
      "File \u001b[1;32m~\\miniconda3\\lib\\site-packages\\scipy\\linalg\\blas.py:213\u001b[0m\n\u001b[0;32m    210\u001b[0m \u001b[38;5;28;01mimport\u001b[39;00m \u001b[38;5;21;01mnumpy\u001b[39;00m \u001b[38;5;28;01mas\u001b[39;00m \u001b[38;5;21;01m_np\u001b[39;00m\n\u001b[0;32m    211\u001b[0m \u001b[38;5;28;01mimport\u001b[39;00m \u001b[38;5;21;01mfunctools\u001b[39;00m\n\u001b[1;32m--> 213\u001b[0m \u001b[38;5;28;01mfrom\u001b[39;00m \u001b[38;5;21;01mscipy\u001b[39;00m\u001b[38;5;21;01m.\u001b[39;00m\u001b[38;5;21;01mlinalg\u001b[39;00m \u001b[38;5;28;01mimport\u001b[39;00m _fblas\n\u001b[0;32m    214\u001b[0m \u001b[38;5;28;01mtry\u001b[39;00m:\n\u001b[0;32m    215\u001b[0m     \u001b[38;5;28;01mfrom\u001b[39;00m \u001b[38;5;21;01mscipy\u001b[39;00m\u001b[38;5;21;01m.\u001b[39;00m\u001b[38;5;21;01mlinalg\u001b[39;00m \u001b[38;5;28;01mimport\u001b[39;00m _cblas\n",
      "\u001b[1;31mImportError\u001b[0m: DLL load failed while importing _fblas: Impossibile trovare il modulo specificato."
     ]
    }
   ],
   "source": [
    "import numpy as np\n",
    "from ase.io import read\n",
    "# We load and parse the trajectory\n",
    "traj = read('./Fortran_code/traj.xyz',index=':')"
   ]
  },
  {
   "cell_type": "code",
   "execution_count": null,
   "id": "compressed-video",
   "metadata": {},
   "outputs": [],
   "source": [
    "# ASE has converted the ext XYZ format in an internal format\n",
    "# Each element of the list is a snapshot of the trajectory\n",
    "traj"
   ]
  },
  {
   "cell_type": "code",
   "execution_count": null,
   "id": "voluntary-animal",
   "metadata": {},
   "outputs": [],
   "source": [
    "a = traj[0]\n",
    "print(a)"
   ]
  },
  {
   "cell_type": "code",
   "execution_count": null,
   "id": "understood-syndication",
   "metadata": {},
   "outputs": [],
   "source": [
    "_ = [a.set_pbc([True,True,False]) for a in traj]"
   ]
  },
  {
   "cell_type": "code",
   "execution_count": null,
   "id": "forward-substance",
   "metadata": {},
   "outputs": [],
   "source": [
    "from ase.visualize import view\n",
    "# Here we visualize the trajectory\n",
    "view(traj)"
   ]
  },
  {
   "cell_type": "code",
   "execution_count": null,
   "id": "current-departure",
   "metadata": {
    "scrolled": true
   },
   "outputs": [],
   "source": [
    "from ase.visualize.plot import plot_atoms\n",
    "import matplotlib.pyplot as plt\n",
    "fig, ax = plt.subplots()\n",
    "sn = traj[500]\n",
    "plot_atoms(sn,ax,radii=[0.5]*sn.get_global_number_of_atoms())"
   ]
  },
  {
   "cell_type": "code",
   "execution_count": null,
   "id": "visible-major",
   "metadata": {},
   "outputs": [],
   "source": [
    "#sn = traj[501]\n",
    "#plot_atoms(sn,ax,colors=['orange']*sn.get_global_number_of_atoms(),radii=[0.5]*sn.get_global_number_of_atoms())"
   ]
  },
  {
   "cell_type": "markdown",
   "id": "beginning-geology",
   "metadata": {},
   "source": [
    "## Radial Distribution Function (RDF)\n",
    "\n",
    "* The RDF in 2D counts the number of particle pairs which are separated by a distance between $r$ and $r+dr$\n",
    "\n",
    "$$g(r) = \\frac{2}{2\\pi r \\Delta r \\rho N}\\langle \\sum_{i=1}^{N-1}\\sum_{j>i}\\delta(r-r_{ij}) \\rangle$$"
   ]
  },
  {
   "cell_type": "markdown",
   "id": "alien-copying",
   "metadata": {},
   "source": [
    "> Now we implement the RDF calculation on top of the stored trajectories through a small Python function."
   ]
  },
  {
   "cell_type": "code",
   "execution_count": null,
   "id": "metric-mentor",
   "metadata": {},
   "outputs": [],
   "source": [
    "def calculate_g(traj,dr = 0.05):\n",
    "    '''\n",
    "    Calculates the 2D radial distribution function (RDF)\n",
    "    g(r) of a trajectory (list of ASE Atoms objects)\n",
    "    '''\n",
    "    Lx = traj[0].cell[0,0]\n",
    "    Ly = traj[0].cell[1,1]\n",
    "    #We create a list of Nx2 arrays\n",
    "    traj_2D = [a.positions[:,:2] for a in traj]\n",
    "    N = traj[0].get_global_number_of_atoms()\n",
    "    print(Lx,Ly,N)\n",
    "    def distance(dx, dy):\n",
    "        dx = dx - Lx*int(2/Lx*dx)\n",
    "        dy = dy - Ly*int(2/Ly*dy)\n",
    "        return dx**2 + dy**2\n",
    "\n",
    "    nmcs = len(traj_2D)\n",
    "    ngcum = 0\n",
    "    nbin = int(3.5/dr)\n",
    "    print('{} bins'.format(nbin))\n",
    "    gcum = np.zeros(nbin)\n",
    "\n",
    "    for sn in traj_2D:\n",
    "        x = sn[:,0] \n",
    "        y = sn[:,1]\n",
    "        for i in range(N-1):\n",
    "            for j in range(i+1,N):\n",
    "                dx = x[i] - x[j]\n",
    "                dy = y[i] - y[j]\n",
    "                r2 =  distance(dx,dy)\n",
    "                ibin = int(np.sqrt(r2)/dr) +1\n",
    "                if (ibin<nbin):\n",
    "                    gcum[ibin] = gcum[ibin] + 1 \n",
    "    rho = float(N)/(Lx*Ly)\n",
    "    xnorm =2.0/(rho*N*nmcs)\n",
    "    rl,gl = [],[]    \n",
    "    for ir in range(nbin):\n",
    "        r    = ir*dr + 0.5*dr  \n",
    "        area = 2.0*np.pi*r*dr    \n",
    "        g    = gcum[ir]*xnorm/area\n",
    "        rl.append(r)\n",
    "        gl.append(g)\n",
    "    return rl, gl\n"
   ]
  },
  {
   "cell_type": "code",
   "execution_count": null,
   "id": "metric-seeking",
   "metadata": {},
   "outputs": [],
   "source": [
    "rl,gl = calculate_g(traj)"
   ]
  },
  {
   "cell_type": "code",
   "execution_count": null,
   "id": "respective-monitoring",
   "metadata": {},
   "outputs": [],
   "source": [
    "#Plotting\n",
    "plt.plot(rl,gl,label='Post-processing RDF')\n",
    "plt.xlabel('r')\n",
    "plt.ylabel('g(r)')\n",
    "#plt.plot(data[:,0],data[:,1])\n",
    "plt.xlim([0,3.3])\n",
    "plt.legend()\n",
    "plt.axhline(1,color='grey',alpha=0.5)"
   ]
  },
  {
   "cell_type": "markdown",
   "id": "visible-greene",
   "metadata": {},
   "source": [
    "> Let's comparare it with the one calculated during the run by the Fortran code."
   ]
  },
  {
   "cell_type": "code",
   "execution_count": null,
   "id": "together-fancy",
   "metadata": {},
   "outputs": [],
   "source": [
    "data = np.loadtxt('./Fortran_code/g_of_r.dat')\n",
    "#Plotting\n",
    "plt.plot(rl,gl,'-',label='Post-processing RDF')\n",
    "plt.xlabel('r')\n",
    "plt.ylabel('g(r)')\n",
    "plt.xlim([0,3.3])\n",
    "plt.plot(data[:,0],data[:,1], 'o',alpha=0.5,label='On-the-fly RDF')\n",
    "plt.legend()\n",
    "plt.axhline(1,color='grey',alpha=0.5)"
   ]
  },
  {
   "cell_type": "markdown",
   "id": "promotional-intermediate",
   "metadata": {},
   "source": [
    "> Let's run some MC with the Fortran code `hd-MC_v2.x`for higher densities \n",
    "(N=16, 4.2x3.63, 500 steps for equilibration, 5000 for sampling)"
   ]
  },
  {
   "cell_type": "code",
   "execution_count": null,
   "id": "legendary-transaction",
   "metadata": {},
   "outputs": [],
   "source": [
    "traj2 = read('./Fortran_code/traj2.xyz',index=':')\n",
    "rl2,gl2 = calculate_g(traj2,dr=0.005)\n",
    "#data = np.loadtxt('./Fortran_code/g_of_r.dat')\n",
    "plt.plot(rl2,gl2,'-',label='Post-processing RDF')\n",
    "#plt.plot(data[:,0],data[:,1], 'o',alpha=0.5,label='On-the-fly RDF')\n",
    "plt.xlabel('r')\n",
    "plt.ylabel('g(r)')\n",
    "plt.xlim([0,3.3])\n",
    "plt.legend()\n",
    "plt.axhline(1,color='grey',alpha=0.5)"
   ]
  },
  {
   "cell_type": "code",
   "execution_count": null,
   "id": "beneficial-modification",
   "metadata": {},
   "outputs": [],
   "source": [
    "fig, ax = plt.subplots()\n",
    "sn = traj2[500]\n",
    "plot_atoms(sn,ax,radii=[0.5]*sn.get_global_number_of_atoms())"
   ]
  },
  {
   "cell_type": "markdown",
   "id": "formed-bailey",
   "metadata": {},
   "source": [
    "> Let's run some MC with the Fortran code `hd-MC_v2.x`for intermediate densities \n",
    "(N=16, 4.45x3.85, 500 steps for equilibration, 5000 for sampling)"
   ]
  },
  {
   "cell_type": "code",
   "execution_count": null,
   "id": "important-desperate",
   "metadata": {},
   "outputs": [],
   "source": [
    "traj3 = read('./Fortran_code/traj3.xyz',index=':')\n",
    "rl3,gl3 = calculate_g(traj3,dr=0.005)\n",
    "plt.plot(rl,gl,'-',label=r'Post-processing RDF ($\\rho=0.49$)')\n",
    "plt.plot(rl2,gl2,'-',label=r'Post-processing RDF ($\\rho=0.91$)')\n",
    "plt.plot(rl3,gl3,'-',label=r'Post-processing RDF ($\\rho=0.81$)')\n",
    "plt.xlabel('r')\n",
    "plt.ylabel('g(r)')\n",
    "plt.xlim([0,2.5])\n",
    "plt.legend()\n",
    "plt.axhline(1,color='grey',alpha=0.5)"
   ]
  },
  {
   "cell_type": "code",
   "execution_count": null,
   "id": "cellular-badge",
   "metadata": {},
   "outputs": [],
   "source": [
    "fig, ax = plt.subplots()\n",
    "sn = traj3[500]\n",
    "plot_atoms(sn,ax,radii=[0.5]*sn.get_global_number_of_atoms())"
   ]
  },
  {
   "cell_type": "code",
   "execution_count": null,
   "id": "static-clinton",
   "metadata": {},
   "outputs": [],
   "source": [
    "view(traj3)"
   ]
  }
 ],
 "metadata": {
  "kernelspec": {
   "display_name": "Python 3 (ipykernel)",
   "language": "python",
   "name": "python3"
  },
  "language_info": {
   "codemirror_mode": {
    "name": "ipython",
    "version": 3
   },
   "file_extension": ".py",
   "mimetype": "text/x-python",
   "name": "python",
   "nbconvert_exporter": "python",
   "pygments_lexer": "ipython3",
   "version": "3.8.6"
  }
 },
 "nbformat": 4,
 "nbformat_minor": 5
}
